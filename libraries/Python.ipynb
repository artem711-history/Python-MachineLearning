{
 "cells": [
  {
   "cell_type": "code",
   "execution_count": 47,
   "id": "dependent-dietary",
   "metadata": {},
   "outputs": [
    {
     "name": "stdout",
     "output_type": "stream",
     "text": [
      "22\n",
      "23\n",
      "24\n",
      "24\n",
      "24\n"
     ]
    }
   ],
   "source": [
    "t = [1,2,3,3,3]\n",
    "for i in t:\n",
    "    print(i+21)"
   ]
  },
  {
   "cell_type": "code",
   "execution_count": 5,
   "id": "collected-myanmar",
   "metadata": {},
   "outputs": [
    {
     "data": {
      "text/plain": [
       "['some word 1', 'some word 4', 'some word 9', 'some word 16', 'some word 25']"
      ]
     },
     "execution_count": 5,
     "metadata": {},
     "output_type": "execute_result"
    }
   ],
   "source": [
    "# for x in range(1,11):\n",
    "#     print(\"lol {}\".format(x))\n",
    "\n",
    "import matplotlib.pyplot as plt\n",
    "x = list(range(0,21))\n",
    "y = list(range(0,21))\n",
    "\n",
    "# plt.scatter(x, y)\n",
    "\n",
    "x = [1,2,3,4,5]\n",
    "[\"some word {}\".format(num **2) for num in x]"
   ]
  },
  {
   "cell_type": "code",
   "execution_count": 3,
   "id": "proof-compound",
   "metadata": {},
   "outputs": [
    {
     "data": {
      "text/plain": [
       "[2, 4]"
      ]
     },
     "execution_count": 3,
     "metadata": {},
     "output_type": "execute_result"
    }
   ],
   "source": [
    "seq = [1,2,3,45,4,5]\n",
    "list(map(lambda num: num*2, seq))\n",
    "list(filter(lambda num:num%2==0, seq))"
   ]
  },
  {
   "cell_type": "code",
   "execution_count": 31,
   "id": "relative-newspaper",
   "metadata": {},
   "outputs": [
    {
     "data": {
      "text/plain": [
       "'Hello Sam Was Eating A Broccoli'"
      ]
     },
     "execution_count": 31,
     "metadata": {},
     "output_type": "execute_result"
    }
   ],
   "source": [
    "s = 'Hello Sam was eating a broccoli' \n",
    "s.lower()\n",
    "s.upper()\n",
    "s.capitalize()\n",
    "res = list(map(lambda char: char.capitalize(), s.split()))\n",
    "res = ' '.join(arr)\n",
    "res"
   ]
  },
  {
   "cell_type": "code",
   "execution_count": 2,
   "id": "compressed-mounting",
   "metadata": {
    "scrolled": true
   },
   "outputs": [
    {
     "data": {
      "text/plain": [
       "dict_keys(['j1', 'ju'])"
      ]
     },
     "execution_count": 2,
     "metadata": {},
     "output_type": "execute_result"
    }
   ],
   "source": [
    "dict = {'j1':2, 'ju':9}\n",
    "dict.items()\n",
    "dict.values()\n",
    "dict.keys()"
   ]
  },
  {
   "cell_type": "code",
   "execution_count": 38,
   "id": "civilian-smart",
   "metadata": {},
   "outputs": [
    {
     "name": "stdout",
     "output_type": "stream",
     "text": [
      "1 2\n",
      "3 4\n",
      "5 6\n"
     ]
    }
   ],
   "source": [
    "x = [(1,2),(3,4), (5,6)]\n",
    "for (a,b) in x:\n",
    "    print(a,b)"
   ]
  },
  {
   "cell_type": "code",
   "execution_count": null,
   "id": "dominican-grace",
   "metadata": {},
   "outputs": [],
   "source": []
  }
 ],
 "metadata": {
  "kernelspec": {
   "display_name": "Python 3",
   "language": "python",
   "name": "python3"
  },
  "language_info": {
   "codemirror_mode": {
    "name": "ipython",
    "version": 3
   },
   "file_extension": ".py",
   "mimetype": "text/x-python",
   "name": "python",
   "nbconvert_exporter": "python",
   "pygments_lexer": "ipython3",
   "version": "3.9.1"
  }
 },
 "nbformat": 4,
 "nbformat_minor": 5
}
