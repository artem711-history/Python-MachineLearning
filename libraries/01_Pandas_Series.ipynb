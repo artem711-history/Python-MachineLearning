{
 "cells": [
  {
   "cell_type": "code",
   "execution_count": 1,
   "id": "filled-return",
   "metadata": {},
   "outputs": [],
   "source": [
    "import pandas as pd\n",
    "import numpy as np"
   ]
  },
  {
   "cell_type": "code",
   "execution_count": 2,
   "id": "warming-audit",
   "metadata": {},
   "outputs": [],
   "source": [
    "labels = ['a', 'b', 'c']\n",
    "data = list(np.arange(10,40, 10))\n",
    "d = {'a':10, 'b':20, 'c':30}"
   ]
  },
  {
   "cell_type": "code",
   "execution_count": 3,
   "id": "cross-mining",
   "metadata": {},
   "outputs": [
    {
     "data": {
      "text/plain": [
       "a    True\n",
       "b    True\n",
       "c    True\n",
       "dtype: bool"
      ]
     },
     "execution_count": 3,
     "metadata": {},
     "output_type": "execute_result"
    }
   ],
   "source": [
    "series = pd.Series(data=data, index=labels)\n",
    "same_series = pd.Series(d)\n",
    "same_series == series"
   ]
  },
  {
   "cell_type": "code",
   "execution_count": 4,
   "id": "public-provider",
   "metadata": {},
   "outputs": [
    {
     "data": {
      "text/plain": [
       "Germany    8.0\n",
       "Italy      NaN\n",
       "Japan      NaN\n",
       "USA        2.0\n",
       "USSR       4.0\n",
       "dtype: float64"
      ]
     },
     "execution_count": 4,
     "metadata": {},
     "output_type": "execute_result"
    }
   ],
   "source": [
    "arr1 = pd.Series([1,2,3,4], [\"USA\", \"USSR\", \"Italy\", \"Germany\"])\n",
    "arr2 = pd.Series([1,2,5,4], [\"USA\", \"USSR\", \"Japan\", \"Germany\"])\n",
    "\n",
    "arr1 + arr2"
   ]
  }
 ],
 "metadata": {
  "kernelspec": {
   "display_name": "Python 3",
   "language": "python",
   "name": "python3"
  },
  "language_info": {
   "codemirror_mode": {
    "name": "ipython",
    "version": 3
   },
   "file_extension": ".py",
   "mimetype": "text/x-python",
   "name": "python",
   "nbconvert_exporter": "python",
   "pygments_lexer": "ipython3",
   "version": "3.9.1"
  }
 },
 "nbformat": 4,
 "nbformat_minor": 5
}
