{
 "cells": [
  {
   "cell_type": "code",
   "execution_count": 2,
   "id": "unknown-moisture",
   "metadata": {},
   "outputs": [],
   "source": [
    "import numpy as np\n",
    "import pandas as pd\n",
    "import matplotlib.pyplot as plt"
   ]
  },
  {
   "cell_type": "code",
   "execution_count": 9,
   "id": "pretty-resistance",
   "metadata": {},
   "outputs": [],
   "source": [
    "dataset = pd.read_csv('./data/Social_Network_Ads.csv')\n",
    "x = dataset.iloc[:, :-1].values\n",
    "y = dataset.iloc[:, -1].values"
   ]
  },
  {
   "cell_type": "code",
   "execution_count": 11,
   "id": "architectural-football",
   "metadata": {},
   "outputs": [],
   "source": [
    "from sklearn.model_selection import train_test_split\n",
    "X_train, X_test, y_train, y_test = train_test_split(x, y, test_size=0.25, random_state=0)"
   ]
  },
  {
   "cell_type": "code",
   "execution_count": 15,
   "id": "prerequisite-attention",
   "metadata": {},
   "outputs": [],
   "source": [
    "from sklearn.preprocessing import StandardScaler\n",
    "sc = StandardScaler()\n",
    "X_train = sc.fit_transform(X_train)\n",
    "X_test = sc.transform(X_test)"
   ]
  },
  {
   "cell_type": "code",
   "execution_count": 41,
   "id": "sitting-oxygen",
   "metadata": {},
   "outputs": [
    {
     "data": {
      "text/plain": [
       "KNeighborsClassifier()"
      ]
     },
     "execution_count": 41,
     "metadata": {},
     "output_type": "execute_result"
    }
   ],
   "source": [
    "from sklearn.neighbors import KNeighborsClassifier\n",
    "KNeighborsClassifierInstance = KNeighborsClassifier(n_neighbors=5, metric='minkowski', p=2)\n",
    "KNeighborsClassifierInstance.fit(X_train, y_train)"
   ]
  },
  {
   "cell_type": "code",
   "execution_count": 55,
   "id": "satisfied-enforcement",
   "metadata": {},
   "outputs": [
    {
     "data": {
      "text/plain": [
       "SVC()"
      ]
     },
     "execution_count": 55,
     "metadata": {},
     "output_type": "execute_result"
    }
   ],
   "source": [
    "from sklearn.svm import SVC\n",
    "SVCClassifier = SVC()\n",
    "SVCClassifier.fit(X_train, y_train)"
   ]
  },
  {
   "cell_type": "code",
   "execution_count": 66,
   "id": "advance-reflection",
   "metadata": {},
   "outputs": [
    {
     "data": {
      "text/plain": [
       "RandomForestClassifier(criterion='entropy', n_estimators=10, random_state=0)"
      ]
     },
     "execution_count": 66,
     "metadata": {},
     "output_type": "execute_result"
    }
   ],
   "source": [
    "from sklearn.ensemble import RandomForestClassifier\n",
    "RandomForestClassifierInstance = RandomForestClassifier(n_estimators=10, criterion='entropy', random_state=0)\n",
    "RandomForestClassifierInstance.fit(X_train, y_train)"
   ]
  },
  {
   "cell_type": "code",
   "execution_count": 70,
   "id": "nutritional-shuttle",
   "metadata": {},
   "outputs": [
    {
     "data": {
      "text/plain": [
       "GaussianNB()"
      ]
     },
     "execution_count": 70,
     "metadata": {},
     "output_type": "execute_result"
    }
   ],
   "source": [
    "from sklearn.naive_bayes import GaussianNB\n",
    "NaiveBayesClassifier = GaussianNB()\n",
    "NaiveBayesClassifier.fit(X_train, y_train)"
   ]
  },
  {
   "cell_type": "code",
   "execution_count": 73,
   "id": "loose-peripheral",
   "metadata": {},
   "outputs": [
    {
     "name": "stdout",
     "output_type": "stream",
     "text": [
      "KNearestNeighbors [[64  4]\n",
      " [ 3 29]] 0.93\n",
      "SVC [[64  4]\n",
      " [ 3 29]] 0.93\n",
      "RandomForest [[63  5]\n",
      " [ 4 28]] 0.91\n",
      "NaiveBayes [[65  3]\n",
      " [ 7 25]] 0.9\n"
     ]
    }
   ],
   "source": [
    "from sklearn.metrics import confusion_matrix, accuracy_score\n",
    "\n",
    "y_pred_KNearestNeighbors = KNeighborsClassifierInstance.predict(X_test)\n",
    "\n",
    "cm_KNearestNeighbors = confusion_matrix(y_test, y_pred_KNearestNeighbors)\n",
    "ac_KNearestNeighbors = accuracy_score(y_test, y_pred_KNearestNeighbors)\n",
    "print(\"KNearestNeighbors\", cm_KNearestNeighbors, ac_KNearestNeighbors)\n",
    "\n",
    "y_pred_SVC = SVCClassifier.predict(X_test)\n",
    "cm_SVC = confusion_matrix(y_test, y_pred_SVC)\n",
    "ac_SVC = accuracy_score(y_test, y_pred_SVC)\n",
    "print(\"SVC\", cm_SVC, ac_SVC)\n",
    "\n",
    "y_pred_RandomForest = RandomForestClassifierInstance.predict(X_test)\n",
    "cm_RandomForest = confusion_matrix(y_test, y_pred_RandomForest)\n",
    "ac_RandomForest = accuracy_score(y_test, y_pred_RandomForest)\n",
    "print(\"RandomForest\", cm_RandomForest, ac_RandomForest)\n",
    "\n",
    "y_pred_NaiveBayes = NaiveBayesClassifier.predict(X_test)\n",
    "cm_NaiveBayes = confusion_matrix(y_test, y_pred_NaiveBayes)\n",
    "ac_NaiveBayes = accuracy_score(y_test, y_pred_NaiveBayes)\n",
    "print(\"NaiveBayes\", cm_NaiveBayes, ac_NaiveBayes)\n"
   ]
  }
 ],
 "metadata": {
  "kernelspec": {
   "display_name": "Python 3",
   "language": "python",
   "name": "python3"
  },
  "language_info": {
   "codemirror_mode": {
    "name": "ipython",
    "version": 3
   },
   "file_extension": ".py",
   "mimetype": "text/x-python",
   "name": "python",
   "nbconvert_exporter": "python",
   "pygments_lexer": "ipython3",
   "version": "3.9.1"
  }
 },
 "nbformat": 4,
 "nbformat_minor": 5
}
