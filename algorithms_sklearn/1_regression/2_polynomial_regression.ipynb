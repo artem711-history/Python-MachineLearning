{
 "cells": [
  {
   "cell_type": "code",
   "execution_count": 1,
   "id": "shared-people",
   "metadata": {},
   "outputs": [],
   "source": [
    "import numpy as np\n",
    "import pandas as pd\n",
    "import matplotlib.pyplot as plt"
   ]
  },
  {
   "cell_type": "code",
   "execution_count": 2,
   "id": "cosmetic-account",
   "metadata": {},
   "outputs": [],
   "source": [
    "dataset = pd.read_csv(\"/data/Data.csv\")\n",
    "x = dataset.iloc[:, :-1].values\n",
    "y = dataset.iloc[:, -1].values"
   ]
  },
  {
   "cell_type": "code",
   "execution_count": 4,
   "id": "threatened-oriental",
   "metadata": {},
   "outputs": [],
   "source": [
    "from sklearn.model_selection import train_test_split\n",
    "train_x, test_x, train_y, test_y = train_test_split(x, y, test_size=0.2, random_state=0)"
   ]
  },
  {
   "cell_type": "code",
   "execution_count": 19,
   "id": "capital-warrant",
   "metadata": {},
   "outputs": [
    {
     "data": {
      "text/plain": [
       "LinearRegression()"
      ]
     },
     "execution_count": 19,
     "metadata": {},
     "output_type": "execute_result"
    }
   ],
   "source": [
    "from sklearn.preprocessing import PolynomialFeatures\n",
    "from sklearn.linear_model import LinearRegression\n",
    "\n",
    "poly_reg = PolynomialFeatures(degree=4)\n",
    "x_poly = poly_reg.fit_transform(train_x)\n",
    "\n",
    "regressor = LinearRegression()\n",
    "regressor.fit(x_poly, train_y)"
   ]
  },
  {
   "cell_type": "code",
   "execution_count": 37,
   "id": "complicated-antibody",
   "metadata": {},
   "outputs": [
    {
     "data": {
      "text/plain": [
       "array([[433.94, 431.23],\n",
       "       [457.91, 460.01],\n",
       "       [460.53, 461.14],\n",
       "       ...,\n",
       "       [469.53, 473.26],\n",
       "       [438.27, 438.  ],\n",
       "       [461.66, 463.28]])"
      ]
     },
     "execution_count": 37,
     "metadata": {},
     "output_type": "execute_result"
    }
   ],
   "source": [
    "y_pred = regressor.predict(poly_reg.transform(test_x))\n",
    "\n",
    "np.set_printoptions(precision=2)\n",
    "np.concatenate((y_pred.reshape(len(y_pred), 1), test_y.reshape(len(test_y), 1)), 1)"
   ]
  },
  {
   "cell_type": "code",
   "execution_count": 38,
   "id": "micro-collective",
   "metadata": {},
   "outputs": [
    {
     "data": {
      "text/plain": [
       "0.9458197531633776"
      ]
     },
     "execution_count": 38,
     "metadata": {},
     "output_type": "execute_result"
    }
   ],
   "source": [
    "from sklearn.metrics import r2_score\n",
    "r2_score(test_y, y_pred)"
   ]
  }
 ],
 "metadata": {
  "kernelspec": {
   "display_name": "Python 3",
   "language": "python",
   "name": "python3"
  },
  "language_info": {
   "codemirror_mode": {
    "name": "ipython",
    "version": 3
   },
   "file_extension": ".py",
   "mimetype": "text/x-python",
   "name": "python",
   "nbconvert_exporter": "python",
   "pygments_lexer": "ipython3",
   "version": "3.9.1"
  }
 },
 "nbformat": 4,
 "nbformat_minor": 5
}
